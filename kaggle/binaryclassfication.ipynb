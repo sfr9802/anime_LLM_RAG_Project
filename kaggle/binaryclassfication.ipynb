{
 "cells": [
  {
   "cell_type": "markdown",
   "metadata": {},
   "source": [
    "# kaggle playground Binary Prediction of Smoker Status using Bio-Signals competition 프로젝트\n",
    "### **진행기간** : 2023-10-15~2023-10-31 \n",
    "### **성과**  \n",
    "로컬 환경에 wsl2 환경을 구축하여 cuda 사용을 할 수 있게 되었다.  \n",
    "과적합을 판단하는 방법과 해결방법을 학습했다.  \n",
    "TensorFlow 함수형 API를 사용하여 피드포워드 네트워크를 구현하는 방법을 학습했다.\n",
    "정확히 어떤 수식으로 작동하는지 이해하지 못했지만 다양한 경사하강법을 사용해보며 경사하강법의 종류를 학습했다.  \n"
   ]
  },
  {
   "cell_type": "code",
   "execution_count": 1,
   "metadata": {},
   "outputs": [
    {
     "name": "stderr",
     "output_type": "stream",
     "text": [
      "2024-04-18 13:08:35.699673: E tensorflow/compiler/xla/stream_executor/cuda/cuda_dnn.cc:9342] Unable to register cuDNN factory: Attempting to register factory for plugin cuDNN when one has already been registered\n",
      "2024-04-18 13:08:35.699725: E tensorflow/compiler/xla/stream_executor/cuda/cuda_fft.cc:609] Unable to register cuFFT factory: Attempting to register factory for plugin cuFFT when one has already been registered\n",
      "2024-04-18 13:08:35.701212: E tensorflow/compiler/xla/stream_executor/cuda/cuda_blas.cc:1518] Unable to register cuBLAS factory: Attempting to register factory for plugin cuBLAS when one has already been registered\n",
      "2024-04-18 13:08:35.844195: I tensorflow/core/platform/cpu_feature_guard.cc:182] This TensorFlow binary is optimized to use available CPU instructions in performance-critical operations.\n",
      "To enable the following instructions: AVX2 FMA, in other operations, rebuild TensorFlow with the appropriate compiler flags.\n",
      "2024-04-18 13:08:37.128956: W tensorflow/compiler/tf2tensorrt/utils/py_utils.cc:38] TF-TRT Warning: Could not find TensorRT\n"
     ]
    }
   ],
   "source": [
    "import numpy as np\n",
    "import pandas as pd\n",
    "import tensorflow as tf\n",
    "import csv\n",
    "import sklearn\n",
    "import matplotlib.pyplot as plt\n",
    "from sklearn import tree\n",
    "from sklearn.metrics import accuracy_score\n",
    "from tensorflow.keras import optimizers\n",
    "from tensorflow.keras.layers import BatchNormalization, Input, Dense, Dropout, concatenate\n",
    "from tensorflow.keras.models import Model\n",
    "from sklearn.model_selection import train_test_split\n",
    "import seaborn as sns\n",
    "from tensorflow.keras.callbacks import EarlyStopping"
   ]
  },
  {
   "cell_type": "code",
   "execution_count": 12,
   "metadata": {},
   "outputs": [],
   "source": [
    "import os\n",
    "import tensorflow as tf \n",
    "from tensorflow.python.client import device_lib\n",
    "os.environ[\"CUDA_VISIBLE_DEVICES\"] = \"0\""
   ]
  },
  {
   "cell_type": "code",
   "execution_count": 19,
   "metadata": {},
   "outputs": [],
   "source": [
    "df = pd.read_csv(\"train_dataset.csv\")\n",
    "df1 = pd.read_csv(\"test_dataset.csv\")"
   ]
  },
  {
   "cell_type": "code",
   "execution_count": 64,
   "metadata": {},
   "outputs": [],
   "source": [
    "\n",
    "df_train = df.drop(['age', 'eyesight(left)', 'eyesight(right)', 'hearing(left)', 'hearing(right)', 'systolic', 'Cholesterol', 'HDL', 'LDL', 'Urine protein', 'AST', 'ALT'], axis= 1)\n",
    "df_test = df1.drop(['age', 'eyesight(left)', 'eyesight(right)', 'hearing(left)', 'hearing(right)', 'systolic', 'Cholesterol', 'HDL', 'LDL', 'Urine protein', 'AST', 'ALT'], axis = 1)"
   ]
  },
  {
   "cell_type": "code",
   "execution_count": 65,
   "metadata": {},
   "outputs": [],
   "source": [
    "df_split_train, df_split_train_ev = train_test_split(df_train, test_size=0.2, random_state=20)"
   ]
  },
  {
   "cell_type": "code",
   "execution_count": 66,
   "metadata": {},
   "outputs": [
    {
     "data": {
      "text/html": [
       "<div>\n",
       "<style scoped>\n",
       "    .dataframe tbody tr th:only-of-type {\n",
       "        vertical-align: middle;\n",
       "    }\n",
       "\n",
       "    .dataframe tbody tr th {\n",
       "        vertical-align: top;\n",
       "    }\n",
       "\n",
       "    .dataframe thead th {\n",
       "        text-align: right;\n",
       "    }\n",
       "</style>\n",
       "<table border=\"1\" class=\"dataframe\">\n",
       "  <thead>\n",
       "    <tr style=\"text-align: right;\">\n",
       "      <th></th>\n",
       "      <th>height(cm)</th>\n",
       "      <th>weight(kg)</th>\n",
       "      <th>waist(cm)</th>\n",
       "      <th>relaxation</th>\n",
       "      <th>fasting blood sugar</th>\n",
       "      <th>triglyceride</th>\n",
       "      <th>hemoglobin</th>\n",
       "      <th>serum creatinine</th>\n",
       "      <th>Gtp</th>\n",
       "      <th>dental caries</th>\n",
       "    </tr>\n",
       "  </thead>\n",
       "  <tbody>\n",
       "    <tr>\n",
       "      <th>33697</th>\n",
       "      <td>155</td>\n",
       "      <td>50</td>\n",
       "      <td>73.0</td>\n",
       "      <td>82</td>\n",
       "      <td>100</td>\n",
       "      <td>66</td>\n",
       "      <td>14.6</td>\n",
       "      <td>0.7</td>\n",
       "      <td>14</td>\n",
       "      <td>1</td>\n",
       "    </tr>\n",
       "    <tr>\n",
       "      <th>23981</th>\n",
       "      <td>165</td>\n",
       "      <td>60</td>\n",
       "      <td>86.5</td>\n",
       "      <td>79</td>\n",
       "      <td>93</td>\n",
       "      <td>105</td>\n",
       "      <td>16.0</td>\n",
       "      <td>1.0</td>\n",
       "      <td>63</td>\n",
       "      <td>0</td>\n",
       "    </tr>\n",
       "    <tr>\n",
       "      <th>3883</th>\n",
       "      <td>155</td>\n",
       "      <td>55</td>\n",
       "      <td>75.0</td>\n",
       "      <td>65</td>\n",
       "      <td>102</td>\n",
       "      <td>85</td>\n",
       "      <td>13.7</td>\n",
       "      <td>0.8</td>\n",
       "      <td>12</td>\n",
       "      <td>0</td>\n",
       "    </tr>\n",
       "    <tr>\n",
       "      <th>22765</th>\n",
       "      <td>155</td>\n",
       "      <td>55</td>\n",
       "      <td>70.0</td>\n",
       "      <td>66</td>\n",
       "      <td>75</td>\n",
       "      <td>61</td>\n",
       "      <td>13.9</td>\n",
       "      <td>0.6</td>\n",
       "      <td>10</td>\n",
       "      <td>1</td>\n",
       "    </tr>\n",
       "    <tr>\n",
       "      <th>15813</th>\n",
       "      <td>155</td>\n",
       "      <td>60</td>\n",
       "      <td>83.2</td>\n",
       "      <td>60</td>\n",
       "      <td>83</td>\n",
       "      <td>92</td>\n",
       "      <td>13.8</td>\n",
       "      <td>0.8</td>\n",
       "      <td>26</td>\n",
       "      <td>0</td>\n",
       "    </tr>\n",
       "    <tr>\n",
       "      <th>...</th>\n",
       "      <td>...</td>\n",
       "      <td>...</td>\n",
       "      <td>...</td>\n",
       "      <td>...</td>\n",
       "      <td>...</td>\n",
       "      <td>...</td>\n",
       "      <td>...</td>\n",
       "      <td>...</td>\n",
       "      <td>...</td>\n",
       "      <td>...</td>\n",
       "    </tr>\n",
       "    <tr>\n",
       "      <th>21423</th>\n",
       "      <td>170</td>\n",
       "      <td>60</td>\n",
       "      <td>75.0</td>\n",
       "      <td>70</td>\n",
       "      <td>105</td>\n",
       "      <td>84</td>\n",
       "      <td>16.8</td>\n",
       "      <td>1.0</td>\n",
       "      <td>28</td>\n",
       "      <td>0</td>\n",
       "    </tr>\n",
       "    <tr>\n",
       "      <th>3304</th>\n",
       "      <td>165</td>\n",
       "      <td>55</td>\n",
       "      <td>69.0</td>\n",
       "      <td>83</td>\n",
       "      <td>86</td>\n",
       "      <td>67</td>\n",
       "      <td>15.3</td>\n",
       "      <td>1.1</td>\n",
       "      <td>28</td>\n",
       "      <td>1</td>\n",
       "    </tr>\n",
       "    <tr>\n",
       "      <th>22951</th>\n",
       "      <td>175</td>\n",
       "      <td>70</td>\n",
       "      <td>84.0</td>\n",
       "      <td>85</td>\n",
       "      <td>122</td>\n",
       "      <td>347</td>\n",
       "      <td>16.3</td>\n",
       "      <td>0.8</td>\n",
       "      <td>234</td>\n",
       "      <td>0</td>\n",
       "    </tr>\n",
       "    <tr>\n",
       "      <th>9643</th>\n",
       "      <td>180</td>\n",
       "      <td>75</td>\n",
       "      <td>85.2</td>\n",
       "      <td>100</td>\n",
       "      <td>207</td>\n",
       "      <td>171</td>\n",
       "      <td>18.2</td>\n",
       "      <td>0.8</td>\n",
       "      <td>43</td>\n",
       "      <td>1</td>\n",
       "    </tr>\n",
       "    <tr>\n",
       "      <th>2497</th>\n",
       "      <td>170</td>\n",
       "      <td>75</td>\n",
       "      <td>83.0</td>\n",
       "      <td>78</td>\n",
       "      <td>90</td>\n",
       "      <td>93</td>\n",
       "      <td>16.8</td>\n",
       "      <td>0.8</td>\n",
       "      <td>18</td>\n",
       "      <td>0</td>\n",
       "    </tr>\n",
       "  </tbody>\n",
       "</table>\n",
       "<p>7797 rows × 10 columns</p>\n",
       "</div>"
      ],
      "text/plain": [
       "       height(cm)  weight(kg)  waist(cm)  relaxation  fasting blood sugar  \\\n",
       "33697         155          50       73.0          82                  100   \n",
       "23981         165          60       86.5          79                   93   \n",
       "3883          155          55       75.0          65                  102   \n",
       "22765         155          55       70.0          66                   75   \n",
       "15813         155          60       83.2          60                   83   \n",
       "...           ...         ...        ...         ...                  ...   \n",
       "21423         170          60       75.0          70                  105   \n",
       "3304          165          55       69.0          83                   86   \n",
       "22951         175          70       84.0          85                  122   \n",
       "9643          180          75       85.2         100                  207   \n",
       "2497          170          75       83.0          78                   90   \n",
       "\n",
       "       triglyceride  hemoglobin  serum creatinine  Gtp  dental caries  \n",
       "33697            66        14.6               0.7   14              1  \n",
       "23981           105        16.0               1.0   63              0  \n",
       "3883             85        13.7               0.8   12              0  \n",
       "22765            61        13.9               0.6   10              1  \n",
       "15813            92        13.8               0.8   26              0  \n",
       "...             ...         ...               ...  ...            ...  \n",
       "21423            84        16.8               1.0   28              0  \n",
       "3304             67        15.3               1.1   28              1  \n",
       "22951           347        16.3               0.8  234              0  \n",
       "9643            171        18.2               0.8   43              1  \n",
       "2497             93        16.8               0.8   18              0  \n",
       "\n",
       "[7797 rows x 10 columns]"
      ]
     },
     "execution_count": 66,
     "metadata": {},
     "output_type": "execute_result"
    }
   ],
   "source": [
    "df_split_train_target = df_split_train['smoking']\n",
    "df_split_train_ev_target = df_split_train_ev['smoking']\n",
    "df_split_train.drop(['smoking'], axis= 1)\n",
    "df_split_train_ev.drop(['smoking'], axis = 1)"
   ]
  },
  {
   "cell_type": "code",
   "execution_count": 71,
   "metadata": {},
   "outputs": [],
   "source": [
    "df_split_train = df_split_train.drop(['smoking'], axis= 1)\n",
    "df_split_train_ev = df_split_train_ev.drop(['smoking'], axis = 1)"
   ]
  },
  {
   "cell_type": "code",
   "execution_count": null,
   "metadata": {},
   "outputs": [],
   "source": [
    "df_corr_metrix =  df.corr()\n",
    "plt.figure(figsize = (30, 20))\n",
    "sns.heatmap(df_corr_metrix, annot=True, cmap='coolwarm', vmin=-1, vmax=1)\n",
    "plt.show()"
   ]
  },
  {
   "cell_type": "code",
   "execution_count": 27,
   "metadata": {},
   "outputs": [],
   "source": [
    "initializer1 = tf.keras.initializers.HeNormal()\n",
    "early_stopping = EarlyStopping(monitor='val_loss', patience=5, restore_best_weights=True)"
   ]
  },
  {
   "cell_type": "code",
   "execution_count": 84,
   "metadata": {},
   "outputs": [
    {
     "name": "stdout",
     "output_type": "stream",
     "text": [
      "Model: \"arin\"\n",
      "_________________________________________________________________\n",
      " Layer (type)                Output Shape              Param #   \n",
      "=================================================================\n",
      " input_20 (InputLayer)       [(None, 10)]              0         \n",
      "                                                                 \n",
      " dense_138 (Dense)           (None, 1024)              11264     \n",
      "                                                                 \n",
      " dropout_63 (Dropout)        (None, 1024)              0         \n",
      "                                                                 \n",
      " dense_139 (Dense)           (None, 512)               524800    \n",
      "                                                                 \n",
      " dropout_64 (Dropout)        (None, 512)               0         \n",
      "                                                                 \n",
      " dense_140 (Dense)           (None, 256)               131328    \n",
      "                                                                 \n",
      " dropout_65 (Dropout)        (None, 256)               0         \n",
      "                                                                 \n",
      " dense_141 (Dense)           (None, 128)               32896     \n",
      "                                                                 \n",
      " dropout_66 (Dropout)        (None, 128)               0         \n",
      "                                                                 \n",
      " dense_142 (Dense)           (None, 64)                8256      \n",
      "                                                                 \n",
      " dropout_67 (Dropout)        (None, 64)                0         \n",
      "                                                                 \n",
      " dense_143 (Dense)           (None, 32)                2080      \n",
      "                                                                 \n",
      " dropout_68 (Dropout)        (None, 32)                0         \n",
      "                                                                 \n",
      " dense_144 (Dense)           (None, 16)                528       \n",
      "                                                                 \n",
      " dropout_69 (Dropout)        (None, 16)                0         \n",
      "                                                                 \n",
      " dense_145 (Dense)           (None, 8)                 136       \n",
      "                                                                 \n",
      " dense_146 (Dense)           (None, 1)                 9         \n",
      "                                                                 \n",
      "=================================================================\n",
      "Total params: 711297 (2.71 MB)\n",
      "Trainable params: 711297 (2.71 MB)\n",
      "Non-trainable params: 0 (0.00 Byte)\n",
      "_________________________________________________________________\n"
     ]
    },
    {
     "name": "stderr",
     "output_type": "stream",
     "text": [
      "/home/arin/.local/lib/python3.10/site-packages/keras/src/initializers/initializers.py:120: UserWarning: The initializer HeNormal is unseeded and being called multiple times, which will return identical values each time (even if the initializer is unseeded). Please update your code to provide a seed to the initializer, or avoid using the same initializer instance more than once.\n",
      "  warnings.warn(\n"
     ]
    }
   ],
   "source": [
    "def bn_arin_smoke():\n",
    "    inputs = Input(shape=(10,))\n",
    "    x = Dense(1024, activation = 'elu', kernel_initializer = initializer1)(inputs)\n",
    "    x = Dropout(0.5)(x)\n",
    "    x = Dense(512, activation = 'elu')(x)\n",
    "    x = Dropout(0.5)(x)\n",
    "    x = Dense(256, activation = 'elu', kernel_initializer = initializer1)(x)\n",
    "    x = Dropout(0.3)(x)\n",
    "    x = Dense(128, activation = 'elu')(x)\n",
    "    x = Dropout(0.2)(x)\n",
    "    x = Dense(64, activation = 'elu', kernel_initializer = initializer1)(x)\n",
    "    x = Dropout(0.1)(x)\n",
    "    x = Dense(32, activation = 'elu')(x)\n",
    "    x = Dropout(0.1)(x)\n",
    "    x = Dense(16, activation = 'elu', kernel_initializer = initializer1)(x)\n",
    "    x = Dropout(0.1)(x)\n",
    "    x = Dense(8, activation = 'elu')(x)    \n",
    "    output = Dense(1, activation = 'sigmoid')(x)\n",
    "    model = Model(inputs = inputs, outputs = output, name = 'arin')\n",
    "    model.compile(optimizer = 'adam', loss = 'binary_crossentropy', metrics=['binary_accuracy'])\n",
    "    \n",
    "    return model\n",
    "model = bn_arin_smoke()\n",
    "model.summary()"
   ]
  },
  {
   "cell_type": "code",
   "execution_count": 85,
   "metadata": {},
   "outputs": [
    {
     "name": "stdout",
     "output_type": "stream",
     "text": [
      "Epoch 1/100\n"
     ]
    },
    {
     "name": "stdout",
     "output_type": "stream",
     "text": [
      "975/975 - 14s - loss: 2.6069 - binary_accuracy: 0.5971 - val_loss: 0.6878 - val_binary_accuracy: 0.6360 - 14s/epoch - 14ms/step\n",
      "Epoch 2/100\n",
      "975/975 - 14s - loss: 0.6676 - binary_accuracy: 0.6394 - val_loss: 0.6775 - val_binary_accuracy: 0.6352 - 14s/epoch - 14ms/step\n",
      "Epoch 3/100\n",
      "975/975 - 11s - loss: 0.6468 - binary_accuracy: 0.6498 - val_loss: 0.6506 - val_binary_accuracy: 0.6386 - 11s/epoch - 11ms/step\n",
      "Epoch 4/100\n",
      "975/975 - 10s - loss: 0.6402 - binary_accuracy: 0.6544 - val_loss: 0.6468 - val_binary_accuracy: 0.6392 - 10s/epoch - 11ms/step\n",
      "Epoch 5/100\n",
      "975/975 - 11s - loss: 0.6355 - binary_accuracy: 0.6623 - val_loss: 0.6899 - val_binary_accuracy: 0.6329 - 11s/epoch - 11ms/step\n",
      "Epoch 6/100\n",
      "975/975 - 12s - loss: 0.6190 - binary_accuracy: 0.6696 - val_loss: 0.5997 - val_binary_accuracy: 0.6797 - 12s/epoch - 12ms/step\n",
      "Epoch 7/100\n",
      "975/975 - 12s - loss: 0.6128 - binary_accuracy: 0.6721 - val_loss: 0.6328 - val_binary_accuracy: 0.6436 - 12s/epoch - 12ms/step\n",
      "Epoch 8/100\n",
      "975/975 - 10s - loss: 0.6041 - binary_accuracy: 0.6776 - val_loss: 0.6268 - val_binary_accuracy: 0.6388 - 10s/epoch - 10ms/step\n",
      "Epoch 9/100\n",
      "975/975 - 9s - loss: 0.5946 - binary_accuracy: 0.6794 - val_loss: 0.5840 - val_binary_accuracy: 0.6486 - 9s/epoch - 10ms/step\n",
      "Epoch 10/100\n",
      "975/975 - 10s - loss: 0.5892 - binary_accuracy: 0.6809 - val_loss: 0.6000 - val_binary_accuracy: 0.6474 - 10s/epoch - 10ms/step\n",
      "Epoch 11/100\n",
      "975/975 - 10s - loss: 0.5834 - binary_accuracy: 0.6877 - val_loss: 0.6684 - val_binary_accuracy: 0.6340 - 10s/epoch - 10ms/step\n",
      "Epoch 12/100\n",
      "975/975 - 11s - loss: 0.5786 - binary_accuracy: 0.6850 - val_loss: 0.5776 - val_binary_accuracy: 0.6446 - 11s/epoch - 11ms/step\n",
      "Epoch 13/100\n",
      "975/975 - 13s - loss: 0.5751 - binary_accuracy: 0.6887 - val_loss: 0.5653 - val_binary_accuracy: 0.6994 - 13s/epoch - 13ms/step\n",
      "Epoch 14/100\n",
      "975/975 - 11s - loss: 0.5711 - binary_accuracy: 0.6887 - val_loss: 0.5584 - val_binary_accuracy: 0.7069 - 11s/epoch - 11ms/step\n",
      "Epoch 15/100\n",
      "975/975 - 12s - loss: 0.5694 - binary_accuracy: 0.6883 - val_loss: 0.5600 - val_binary_accuracy: 0.7067 - 12s/epoch - 12ms/step\n",
      "Epoch 16/100\n",
      "975/975 - 10s - loss: 0.5771 - binary_accuracy: 0.6862 - val_loss: 0.5951 - val_binary_accuracy: 0.6664 - 10s/epoch - 10ms/step\n",
      "Epoch 17/100\n",
      "975/975 - 9s - loss: 0.5720 - binary_accuracy: 0.6883 - val_loss: 0.5559 - val_binary_accuracy: 0.7035 - 9s/epoch - 10ms/step\n",
      "Epoch 18/100\n",
      "975/975 - 9s - loss: 0.5690 - binary_accuracy: 0.6864 - val_loss: 0.5621 - val_binary_accuracy: 0.6904 - 9s/epoch - 9ms/step\n",
      "Epoch 19/100\n",
      "975/975 - 9s - loss: 0.5679 - binary_accuracy: 0.6873 - val_loss: 0.5578 - val_binary_accuracy: 0.7078 - 9s/epoch - 10ms/step\n",
      "Epoch 20/100\n",
      "975/975 - 10s - loss: 0.5642 - binary_accuracy: 0.6896 - val_loss: 0.5669 - val_binary_accuracy: 0.6663 - 10s/epoch - 10ms/step\n",
      "Epoch 21/100\n",
      "975/975 - 10s - loss: 0.5691 - binary_accuracy: 0.6928 - val_loss: 0.5780 - val_binary_accuracy: 0.6756 - 10s/epoch - 10ms/step\n",
      "Epoch 22/100\n",
      "975/975 - 9s - loss: 0.5664 - binary_accuracy: 0.6914 - val_loss: 0.5441 - val_binary_accuracy: 0.7112 - 9s/epoch - 10ms/step\n",
      "Epoch 23/100\n",
      "975/975 - 10s - loss: 0.5630 - binary_accuracy: 0.6888 - val_loss: 0.5507 - val_binary_accuracy: 0.7062 - 10s/epoch - 10ms/step\n",
      "Epoch 24/100\n",
      "975/975 - 9s - loss: 0.5608 - binary_accuracy: 0.6929 - val_loss: 0.5566 - val_binary_accuracy: 0.7019 - 9s/epoch - 10ms/step\n",
      "Epoch 25/100\n",
      "975/975 - 10s - loss: 0.5616 - binary_accuracy: 0.6939 - val_loss: 0.5593 - val_binary_accuracy: 0.7063 - 10s/epoch - 10ms/step\n",
      "Epoch 26/100\n",
      "975/975 - 9s - loss: 0.5609 - binary_accuracy: 0.6941 - val_loss: 0.5482 - val_binary_accuracy: 0.7087 - 9s/epoch - 10ms/step\n",
      "Epoch 27/100\n",
      "975/975 - 9s - loss: 0.5638 - binary_accuracy: 0.6916 - val_loss: 0.5462 - val_binary_accuracy: 0.7096 - 9s/epoch - 10ms/step\n"
     ]
    }
   ],
   "source": [
    "\n",
    "his = model.fit(df_split_train, df_split_train_target, epochs=100, verbose=2, validation_data=(df_split_train_ev, df_split_train_ev_target), callbacks=[early_stopping])"
   ]
  },
  {
   "cell_type": "code",
   "execution_count": 86,
   "metadata": {},
   "outputs": [
    {
     "data": {
      "text/plain": [
       "<Axes: >"
      ]
     },
     "execution_count": 86,
     "metadata": {},
     "output_type": "execute_result"
    },
    {
     "data": {
      "image/png": "[encoded data removed]",
      "text/plain": [
       "<Figure size 640x480 with 1 Axes>"
      ]
     },
     "metadata": {},
     "output_type": "display_data"
    },
    {
     "data": {
      "image/png": "[encoded data removed]",
      "text/plain": [
       "<Figure size 640x480 with 1 Axes>"
      ]
     },
     "metadata": {},
     "output_type": "display_data"
    }
   ],
   "source": [
    "df_his = pd.DataFrame(his.history)\n",
    "df_his[[\"loss\",  \"val_loss\"]].plot()\n",
    "df_his[[\"binary_accuracy\", \"val_binary_accuracy\"]].plot()\n"
   ]
  },
  {
   "cell_type": "code",
   "execution_count": null,
   "metadata": {},
   "outputs": [],
   "source": [
    "predictions = rf.predict(test_ds)"
   ]
  },
  {
   "cell_type": "code",
   "execution_count": null,
   "metadata": {},
   "outputs": [],
   "source": [
    "a = []\n",
    "for i in predictions :\n",
    "    i = i.tolist()\n",
    "    if i.index(max(i)) == 2 :\n",
    "        a.append('H')\n",
    "    elif i.index(max(i))==1:\n",
    "        a.append('D')\n",
    "    elif i.index(max(i))==0:\n",
    "        a.append('A')"
   ]
  }
 ],
 "metadata": {
  "kernelspec": {
   "display_name": "base",
   "language": "python",
   "name": "python3"
  },
  "language_info": {
   "codemirror_mode": {
    "name": "ipython",
    "version": 3
   },
   "file_extension": ".py",
   "mimetype": "text/x-python",
   "name": "python",
   "nbconvert_exporter": "python",
   "pygments_lexer": "ipython3",
   "version": "3.10.12"
  }
 },
 "nbformat": 4,
 "nbformat_minor": 2
}
