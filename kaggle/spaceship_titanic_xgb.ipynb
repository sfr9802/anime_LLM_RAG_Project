{
 "cells": [
  {
   "cell_type": "code",
   "execution_count": null,
   "metadata": {},
   "outputs": [],
   "source": []
  },
  {
   "cell_type": "markdown",
   "metadata": {},
   "source": [
    "# kaggle의 이진분류 도전과제 \n",
    "**목적**  \n",
    "1. 기존 피드포워드 모델로 구현한 모델이 아닌 XGBoost 모델 사용 / 모델 학습 시 비용 절감을 위함, submit score으로 성능 비교 위함  \n",
    "2. carbin 변수 중요도 확인  \n",
    "3. 전처리 과정의 간소화/하드코딩으로 진행했던 인코딩 결측치 처리를 메소드로  \n",
    "4. "
   ]
  }
 ],
 "metadata": {
  "language_info": {
   "name": "python"
  }
 },
 "nbformat": 4,
 "nbformat_minor": 2
}
